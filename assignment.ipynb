{
 "cells": [
  {
   "cell_type": "code",
   "execution_count": 1,
   "id": "6a0728d3-3c84-4df2-b59d-6c512197feed",
   "metadata": {},
   "outputs": [],
   "source": [
    "# Write a Python program to print the numbers from 1 to 10 using a `for` loop."
   ]
  },
  {
   "cell_type": "code",
   "execution_count": 2,
   "id": "0c7004e7-37ba-4061-a7bc-4ca819ee51a6",
   "metadata": {},
   "outputs": [
    {
     "name": "stdout",
     "output_type": "stream",
     "text": [
      "1\n",
      "2\n",
      "3\n",
      "4\n",
      "5\n",
      "6\n",
      "7\n",
      "8\n",
      "9\n",
      "10\n"
     ]
    }
   ],
   "source": [
    "for i in range(1,11,1):\n",
    "    print(i)"
   ]
  },
  {
   "cell_type": "code",
   "execution_count": null,
   "id": "0f746c8d-dd31-4857-848b-8473697548fb",
   "metadata": {},
   "outputs": [],
   "source": []
  },
  {
   "cell_type": "code",
   "execution_count": 3,
   "id": "e7666bdf-51d2-4795-9e51-6057545f0233",
   "metadata": {},
   "outputs": [],
   "source": [
    "# Create a program that calculates the sum of all numbers in a list using a `for` loop."
   ]
  },
  {
   "cell_type": "code",
   "execution_count": 15,
   "id": "a6e3a7b0-cfb3-4541-bf70-b78cd2f60238",
   "metadata": {},
   "outputs": [
    {
     "name": "stdout",
     "output_type": "stream",
     "text": [
      "200\n"
     ]
    }
   ],
   "source": [
    "num=[20,30,40,50,60]\n",
    "total=0\n",
    "for i in num:\n",
    "    total=total+i\n",
    "print(total)"
   ]
  },
  {
   "cell_type": "code",
   "execution_count": null,
   "id": "a3cdfe4d-357f-4c0c-a140-cb117ba1306e",
   "metadata": {},
   "outputs": [],
   "source": []
  },
  {
   "cell_type": "code",
   "execution_count": 16,
   "id": "96543cd4-5cab-4e78-878f-352a8fbb521d",
   "metadata": {},
   "outputs": [],
   "source": [
    "# Write a program to print the characters of a string in reverse order using a `for` loop."
   ]
  },
  {
   "cell_type": "code",
   "execution_count": 31,
   "id": "47314b89-7f16-4f4b-9621-7d1fbaeb9f97",
   "metadata": {},
   "outputs": [
    {
     "name": "stdout",
     "output_type": "stream",
     "text": [
      "n o h t y p "
     ]
    }
   ],
   "source": [
    "txt=\"python\"\n",
    "\n",
    "for i in range(len(txt)-1,-1,-1):\n",
    "    print(txt[i],end=\" \")\n",
    "    "
   ]
  },
  {
   "cell_type": "code",
   "execution_count": null,
   "id": "4aa9c330-515d-443c-ab28-d4564944c054",
   "metadata": {},
   "outputs": [],
   "source": []
  },
  {
   "cell_type": "code",
   "execution_count": 24,
   "id": "8835c460-cfca-4816-8bc6-e125476612b2",
   "metadata": {},
   "outputs": [],
   "source": [
    "# Create a program to print the multiplication table of a given number using a `for` loop."
   ]
  },
  {
   "cell_type": "code",
   "execution_count": 27,
   "id": "a7142383-376e-40cc-9f9e-7c58b5988958",
   "metadata": {},
   "outputs": [
    {
     "name": "stdout",
     "output_type": "stream",
     "text": [
      "5\n",
      "10\n",
      "15\n",
      "20\n",
      "25\n",
      "30\n",
      "35\n",
      "40\n",
      "45\n",
      "50\n"
     ]
    }
   ],
   "source": [
    "\n",
    "n=5\n",
    "\n",
    "for i in range(1,11):\n",
    "    print(n*i)\n",
    "    "
   ]
  },
  {
   "cell_type": "code",
   "execution_count": null,
   "id": "b4ccf445-97b5-4827-8c6d-4380a81e2428",
   "metadata": {},
   "outputs": [],
   "source": []
  },
  {
   "cell_type": "code",
   "execution_count": 28,
   "id": "290d06f0-f0a4-4242-8c0f-0e0f71440b94",
   "metadata": {},
   "outputs": [],
   "source": [
    "# Write a program that counts the number of even and odd numbers in a list using a `for` loop."
   ]
  },
  {
   "cell_type": "code",
   "execution_count": 36,
   "id": "b715986b-4219-4c6f-ad0a-2a587ffb5afe",
   "metadata": {},
   "outputs": [
    {
     "name": "stdout",
     "output_type": "stream",
     "text": [
      "Even numbers are: 6\n",
      "Odd numbers are: 5\n"
     ]
    }
   ],
   "source": [
    "a=[20,21,22,23,24,25,26,27,28,29,30]\n",
    "\n",
    "even=0\n",
    "odd=0\n",
    "\n",
    "for i in a:\n",
    "    if i%2==0:\n",
    "        even=even+1\n",
    "        \n",
    "    else:\n",
    "        odd=odd+1\n",
    "        \n",
    "print(\"Even numbers are:\",even)\n",
    "print(\"Odd numbers are:\",odd)"
   ]
  },
  {
   "cell_type": "code",
   "execution_count": null,
   "id": "d99be65e-76e7-48af-a762-fda0e1a60351",
   "metadata": {},
   "outputs": [],
   "source": []
  },
  {
   "cell_type": "code",
   "execution_count": 37,
   "id": "a0d949cf-41d5-4b0e-b07a-cb60301f23c9",
   "metadata": {},
   "outputs": [],
   "source": [
    "# Develop a program that prints the squares of numbers from 1 to 5 using a `for` loop."
   ]
  },
  {
   "cell_type": "code",
   "execution_count": 41,
   "id": "14a55e93-1665-42a1-a899-f9ce21931e54",
   "metadata": {},
   "outputs": [
    {
     "name": "stdout",
     "output_type": "stream",
     "text": [
      "1 square is 1\n",
      "2 square is 4\n",
      "3 square is 9\n",
      "4 square is 16\n",
      "5 square is 25\n"
     ]
    }
   ],
   "source": [
    "for i in range(1,6):\n",
    "    sqr=i*i\n",
    "    print(i,\"square is\",sqr)"
   ]
  },
  {
   "cell_type": "code",
   "execution_count": null,
   "id": "c1998630-99b2-40c0-a7a5-2b0cb5f45a9c",
   "metadata": {},
   "outputs": [],
   "source": []
  },
  {
   "cell_type": "code",
   "execution_count": 42,
   "id": "0e5c1053-8b87-42f7-9348-8a4717f980ea",
   "metadata": {},
   "outputs": [],
   "source": [
    "# Create a program to find the length of a string without using the `len()` function."
   ]
  },
  {
   "cell_type": "code",
   "execution_count": 52,
   "id": "3029ecbc-e9c4-4fe0-886a-291454d51c1d",
   "metadata": {},
   "outputs": [
    {
     "name": "stdout",
     "output_type": "stream",
     "text": [
      "the length is: 11\n"
     ]
    }
   ],
   "source": [
    "x=\"programming\"\n",
    "\n",
    "count=0\n",
    "\n",
    "for i in x:\n",
    "    count+=1\n",
    "print(\"the length is:\",count)\n"
   ]
  },
  {
   "cell_type": "code",
   "execution_count": null,
   "id": "0f7a75e2-a233-4138-bff8-19123a3e4fe5",
   "metadata": {},
   "outputs": [],
   "source": []
  },
  {
   "cell_type": "code",
   "execution_count": 53,
   "id": "afdb66fa-2720-4300-9dae-b5b59336cd99",
   "metadata": {},
   "outputs": [],
   "source": [
    "# Write a program that calculates the average of a list of numbers using a `for` loop."
   ]
  },
  {
   "cell_type": "code",
   "execution_count": 57,
   "id": "c9d9a6e0-259e-46c8-a49e-b14011fbf753",
   "metadata": {},
   "outputs": [
    {
     "name": "stdout",
     "output_type": "stream",
     "text": [
      "30\n",
      "5\n",
      "the average is: 6.0\n"
     ]
    }
   ],
   "source": [
    "list1=[2,4,6,8,10]\n",
    "\n",
    "add=0\n",
    "avg=0\n",
    "count=0\n",
    "for i in list1:\n",
    "    add=add+i\n",
    "    \n",
    "    count=count+1\n",
    "    \n",
    "    avg=add/count\n",
    "    \n",
    "print(add)\n",
    "print(count)\n",
    "\n",
    "print(\"the average is:\",avg)    \n",
    "    \n",
    "    "
   ]
  },
  {
   "cell_type": "code",
   "execution_count": null,
   "id": "e6abb521-a443-4085-9568-6855395e35a5",
   "metadata": {},
   "outputs": [],
   "source": []
  }
 ],
 "metadata": {
  "kernelspec": {
   "display_name": "Python 3 (ipykernel)",
   "language": "python",
   "name": "python3"
  },
  "language_info": {
   "codemirror_mode": {
    "name": "ipython",
    "version": 3
   },
   "file_extension": ".py",
   "mimetype": "text/x-python",
   "name": "python",
   "nbconvert_exporter": "python",
   "pygments_lexer": "ipython3",
   "version": "3.10.8"
  }
 },
 "nbformat": 4,
 "nbformat_minor": 5
}
